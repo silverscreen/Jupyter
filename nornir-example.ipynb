{
 "cells": [
  {
   "cell_type": "markdown",
   "metadata": {},
   "source": [
    "## An introduction to Jupyter Notebooks\n",
    "\n",
    "In Jupyter, you use cells to build your notebooks. A cell can consist of `code` which can then be executed using your Python 3 as your kernel like so:"
   ]
  },
  {
   "cell_type": "code",
   "execution_count": 3,
   "metadata": {},
   "outputs": [
    {
     "name": "stdout",
     "output_type": "stream",
     "text": [
      "/home/lawrence/.virtualenvs/junos/bin/python\n"
     ]
    }
   ],
   "source": [
    "import sys\n",
    "print(sys.executable)"
   ]
  },
  {
   "cell_type": "markdown",
   "metadata": {},
   "source": [
    "### Add a Virtual Environment to Jupyter Notebook\n",
    "\n",
    "Jupyter Notebook and other frontends automatically ensure that the IPython kernel is available. However if we want to use a different version of Python or a virtual environment, we'll need to first activate that virtual env.\n",
    "\n",
    "First you need to activate your virtual environment: \n",
    "\n",
    "```\n",
    "lawrence@cacti:~$ workon junos\n",
    "```\n",
    "\n",
    "Then install `ipykernel` within the virtual environment you wish to add to Jupyter:\n",
    "\n",
    "```\n",
    "(junos) lawrence@cacti:~$ pip3 install ipykernel\n",
    "```\n",
    "\n",
    "Afterwards, add the virtual environment to Jupyter using the following command:\n",
    "\n",
    "```\n",
    "(junos) lawrence@cacti:~$ python -m ipykernel install --user --name=junos\n",
    "```\n",
    "\n",
    "This should return the following output:\n",
    "\n",
    "```\n",
    "Installed kernelspec junos in /home/lawrence/.local/share/jupyter/kernels/junos\n",
    "```\n",
    "\n",
    "### Confirming the install was successful\n",
    "\n",
    "You can confirm the installation was successful by viewing the `kernel.json` file inside the aforementioned directory:\n",
    "\n",
    "```\n",
    "(junos) lawrence@cacti:~/.local/share/jupyter/kernels/junos$ cat kernel.json\n",
    "```\n",
    "\n",
    "```json\n",
    "{\n",
    " \"argv\": [\n",
    "  \"/home/lawrence/.virtualenvs/junos/bin/python\",\n",
    "  \"-m\",\n",
    "  \"ipykernel_launcher\",\n",
    "  \"-f\",\n",
    "  \"{connection_file}\"\n",
    " ],\n",
    " \"display_name\": \"junos\",\n",
    " \"language\": \"python\"\n",
    "}\n",
    "```\n",
    "\n",
    "Now all that's left is to start Jupyter, navigate to **Kernel > Change kernel**, and inside should reside the virtual environment you added as an option."
   ]
  },
  {
   "cell_type": "markdown",
   "metadata": {},
   "source": [
    "### Using Markdown inside cells\n",
    "\n",
    "You can also use markdown in your cells to write comments such as these. Here you can use markdown to format your code, such as adding code snippets:\n",
    "\n",
    "```python\n",
    "print('Hello Vents!')\n",
    "Hello Vents!\n",
    "```\n",
    "\n",
    "To **embolden** text and use _italics_.\n",
    "\n",
    "And to list bulletpoints:\n",
    "\n",
    "* Bullet point 1\n",
    "  * Sub bullet point 1\n",
    "* Bullet point 2\n",
    "\n",
    "And even add headers like so:\n",
    "\n",
    "# Heading 1\n",
    "\n",
    "## Heading 2\n",
    "\n",
    "### Heading 3"
   ]
  },
  {
   "cell_type": "code",
   "execution_count": null,
   "metadata": {},
   "outputs": [],
   "source": []
  },
  {
   "cell_type": "code",
   "execution_count": null,
   "metadata": {},
   "outputs": [],
   "source": []
  }
 ],
 "metadata": {
  "kernelspec": {
   "display_name": "junos",
   "language": "python",
   "name": "junos"
  },
  "language_info": {
   "codemirror_mode": {
    "name": "ipython",
    "version": 3
   },
   "file_extension": ".py",
   "mimetype": "text/x-python",
   "name": "python",
   "nbconvert_exporter": "python",
   "pygments_lexer": "ipython3",
   "version": "3.6.9"
  }
 },
 "nbformat": 4,
 "nbformat_minor": 4
}
